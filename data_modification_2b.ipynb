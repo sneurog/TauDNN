{
 "cells": [
  {
   "cell_type": "code",
   "execution_count": 40,
   "metadata": {
    "tags": []
   },
   "outputs": [],
   "source": [
    "import pandas as pd\n",
    "from sklearn.preprocessing import OneHotEncoder\n",
    "import csv\n"
   ]
  },
  {
   "cell_type": "markdown",
   "metadata": {},
   "source": [
    "# Data normalization"
   ]
  },
  {
   "cell_type": "markdown",
   "metadata": {},
   "source": [
    "### connectome_mean80_fibercount.csv\n",
    "\n",
    "- Drop the regions missing from the seeds dataframe \n",
    "- Reorder columns alphabetically\n",
    "- Save modified dataframe into a new CSV file \n",
    "\n",
    "\n",
    "\n",
    "\n"
   ]
  },
  {
   "cell_type": "code",
   "execution_count": 41,
   "metadata": {},
   "outputs": [],
   "source": [
    "# Reorder columns alphabetically for the connectome\n",
    "connectome = pd.read_csv(\"./data/connectome_mean80_fibercount.csv\")\n",
    "connectome = connectome.reindex(sorted(connectome.columns), axis=1)\n"
   ]
  },
  {
   "cell_type": "code",
   "execution_count": 42,
   "metadata": {},
   "outputs": [
    {
     "data": {
      "text/plain": [
       "['Left-Accumbens-area',\n",
       " 'Left-Amygdala',\n",
       " 'Left-Caudate',\n",
       " 'Left-Cerebellum-Cortex',\n",
       " 'Left-Hippocampus',\n",
       " 'Left-Pallidum',\n",
       " 'Left-Putamen',\n",
       " 'Left-Thalamus-Proper',\n",
       " 'Left-VentralDC',\n",
       " 'Right-Accumbens-area',\n",
       " 'Right-Amygdala',\n",
       " 'Right-Caudate',\n",
       " 'Right-Cerebellum-Cortex',\n",
       " 'Right-Hippocampus',\n",
       " 'Right-Pallidum',\n",
       " 'Right-Putamen',\n",
       " 'Right-Thalamus-Proper',\n",
       " 'Right-VentralDC',\n",
       " 'ctx-lh-bankssts',\n",
       " 'ctx-lh-caudalanteriorcingulate',\n",
       " 'ctx-lh-caudalmiddlefrontal',\n",
       " 'ctx-lh-cuneus',\n",
       " 'ctx-lh-entorhinal',\n",
       " 'ctx-lh-frontalpole',\n",
       " 'ctx-lh-fusiform',\n",
       " 'ctx-lh-inferiorparietal',\n",
       " 'ctx-lh-inferiortemporal',\n",
       " 'ctx-lh-insula',\n",
       " 'ctx-lh-isthmuscingulate',\n",
       " 'ctx-lh-lateraloccipital',\n",
       " 'ctx-lh-lateralorbitofrontal',\n",
       " 'ctx-lh-lingual',\n",
       " 'ctx-lh-medialorbitofrontal',\n",
       " 'ctx-lh-middletemporal',\n",
       " 'ctx-lh-paracentral',\n",
       " 'ctx-lh-parahippocampal',\n",
       " 'ctx-lh-parsopercularis',\n",
       " 'ctx-lh-parsorbitalis',\n",
       " 'ctx-lh-parstriangularis',\n",
       " 'ctx-lh-pericalcarine',\n",
       " 'ctx-lh-postcentral',\n",
       " 'ctx-lh-posteriorcingulate',\n",
       " 'ctx-lh-precentral',\n",
       " 'ctx-lh-precuneus',\n",
       " 'ctx-lh-rostralanteriorcingulate',\n",
       " 'ctx-lh-rostralmiddlefrontal',\n",
       " 'ctx-lh-superiorfrontal',\n",
       " 'ctx-lh-superiorparietal',\n",
       " 'ctx-lh-superiortemporal',\n",
       " 'ctx-lh-supramarginal',\n",
       " 'ctx-lh-temporalpole',\n",
       " 'ctx-lh-transversetemporal',\n",
       " 'ctx-rh-bankssts',\n",
       " 'ctx-rh-caudalanteriorcingulate',\n",
       " 'ctx-rh-caudalmiddlefrontal',\n",
       " 'ctx-rh-cuneus',\n",
       " 'ctx-rh-entorhinal',\n",
       " 'ctx-rh-frontalpole',\n",
       " 'ctx-rh-fusiform',\n",
       " 'ctx-rh-inferiorparietal',\n",
       " 'ctx-rh-inferiortemporal',\n",
       " 'ctx-rh-insula',\n",
       " 'ctx-rh-isthmuscingulate',\n",
       " 'ctx-rh-lateraloccipital',\n",
       " 'ctx-rh-lateralorbitofrontal',\n",
       " 'ctx-rh-lingual',\n",
       " 'ctx-rh-medialorbitofrontal',\n",
       " 'ctx-rh-middletemporal',\n",
       " 'ctx-rh-paracentral',\n",
       " 'ctx-rh-parahippocampal',\n",
       " 'ctx-rh-parsopercularis',\n",
       " 'ctx-rh-parsorbitalis',\n",
       " 'ctx-rh-parstriangularis',\n",
       " 'ctx-rh-pericalcarine',\n",
       " 'ctx-rh-postcentral',\n",
       " 'ctx-rh-posteriorcingulate',\n",
       " 'ctx-rh-precentral',\n",
       " 'ctx-rh-precuneus',\n",
       " 'ctx-rh-rostralanteriorcingulate',\n",
       " 'ctx-rh-rostralmiddlefrontal',\n",
       " 'ctx-rh-superiorfrontal',\n",
       " 'ctx-rh-superiorparietal',\n",
       " 'ctx-rh-superiortemporal',\n",
       " 'ctx-rh-supramarginal',\n",
       " 'ctx-rh-temporalpole',\n",
       " 'ctx-rh-transversetemporal']"
      ]
     },
     "execution_count": 42,
     "metadata": {},
     "output_type": "execute_result"
    }
   ],
   "source": [
    "# Get the columns of the connectome\n",
    "columns_array = connectome.columns.tolist()\n",
    "columns_array"
   ]
  },
  {
   "cell_type": "markdown",
   "metadata": {},
   "source": [
    "### Tau_with_Deomographics.csv\n",
    "\n",
    "\n",
    "Here, the average of Tau between the left and reight cerebellum cortex are average. \n",
    "These values are subtracted in both the left and right Cerebellum columns. \n",
    "Reorder columns alphabetically\n",
    "\n",
    "\n",
    "\n"
   ]
  },
  {
   "cell_type": "code",
   "execution_count": 43,
   "metadata": {
    "tags": []
   },
   "outputs": [],
   "source": [
    "twd_df = pd.read_csv(\"./data/Tau_with_Demographics.csv\")\n",
    "twd_df['Avg-Cerebellum-Cortex'] =  twd_df.loc[:,['Left-Cerebellum-Cortex', 'Right-Cerebellum-Cortex']].mean(axis=1)\n",
    "\n",
    "# Subtracts average from Left cerebellum, then makes negative values 0.\n",
    "\n",
    "twd_df[\"Left-Cerebellum-Cortex\"] = twd_df[\"Left-Cerebellum-Cortex\"].subtract(twd_df['Avg-Cerebellum-Cortex'], axis=0).clip(lower=0)\n",
    "\n",
    "# Subtracts average from Right cerebellum, then makes negative values 0.\n",
    "\n",
    "twd_df[\"Right-Cerebellum-Cortex\"] = twd_df[\"Right-Cerebellum-Cortex\"].subtract(twd_df['Avg-Cerebellum-Cortex'], axis=0).clip(lower=0)\n",
    "\n",
    "\n",
    "\n"
   ]
  },
  {
   "cell_type": "code",
   "execution_count": 44,
   "metadata": {},
   "outputs": [],
   "source": [
    "# Order the dempgraphics regional tau values in alaphabetical order\n",
    "twd_df = twd_df.reindex(sorted(twd_df.columns), axis=1)\n"
   ]
  },
  {
   "cell_type": "markdown",
   "metadata": {},
   "source": [
    "#### Check for duplicates \n",
    "\n",
    "\n"
   ]
  },
  {
   "cell_type": "code",
   "execution_count": 45,
   "metadata": {},
   "outputs": [
    {
     "data": {
      "text/plain": [
       "array(['ABETA', 'ADAS11_bl', 'ADAS11_bl.1', 'ADAS13_bl', 'ADAS13_bl.1',\n",
       "       'AGE', 'APOE4', 'AV45', 'Avg-Cerebellum-Cortex', 'CDRSB',\n",
       "       'Diagnosis', 'FDG', 'Left-Accumbens-area', 'Left-Amygdala',\n",
       "       'Left-Caudate', 'Left-Cerebellum-Cortex', 'Left-Hippocampus',\n",
       "       'Left-Pallidum', 'Left-Putamen', 'Left-Thalamus-Proper',\n",
       "       'Left-VentralDC', 'MMSE_bl', 'MMSE_bl.1', 'PIB', 'PTAU',\n",
       "       'PTEDUCAT', 'PTETHCAT', 'PTGENDER', 'PTMARRY', 'PTRACCAT', 'RID',\n",
       "       'RID.1', 'Right-Accumbens-area', 'Right-Amygdala', 'Right-Caudate',\n",
       "       'Right-Cerebellum-Cortex', 'Right-Hippocampus', 'Right-Pallidum',\n",
       "       'Right-Putamen', 'Right-Thalamus-Proper', 'Right-VentralDC', 'TAU',\n",
       "       'Unnamed: 0', 'Unnamed: 127', 'W_ADAS11', 'W_average_frontal',\n",
       "       'W_average_hippo', 'W_average_occipital', 'W_average_parietal',\n",
       "       'W_average_tau', 'W_average_temporal', 'best_DX', 'best_DX.1',\n",
       "       'ctx-lh-bankssts', 'ctx-lh-caudalanteriorcingulate',\n",
       "       'ctx-lh-caudalmiddlefrontal', 'ctx-lh-cuneus', 'ctx-lh-entorhinal',\n",
       "       'ctx-lh-frontalpole', 'ctx-lh-fusiform', 'ctx-lh-inferiorparietal',\n",
       "       'ctx-lh-inferiortemporal', 'ctx-lh-insula',\n",
       "       'ctx-lh-isthmuscingulate', 'ctx-lh-lateraloccipital',\n",
       "       'ctx-lh-lateralorbitofrontal', 'ctx-lh-lingual',\n",
       "       'ctx-lh-medialorbitofrontal', 'ctx-lh-middletemporal',\n",
       "       'ctx-lh-paracentral', 'ctx-lh-parahippocampal',\n",
       "       'ctx-lh-parsopercularis', 'ctx-lh-parsorbitalis',\n",
       "       'ctx-lh-parstriangularis', 'ctx-lh-pericalcarine',\n",
       "       'ctx-lh-postcentral', 'ctx-lh-posteriorcingulate',\n",
       "       'ctx-lh-precentral', 'ctx-lh-precuneus',\n",
       "       'ctx-lh-rostralanteriorcingulate', 'ctx-lh-rostralmiddlefrontal',\n",
       "       'ctx-lh-superiorfrontal', 'ctx-lh-superiorparietal',\n",
       "       'ctx-lh-superiortemporal', 'ctx-lh-supramarginal',\n",
       "       'ctx-lh-temporalpole', 'ctx-lh-transversetemporal',\n",
       "       'ctx-rh-bankssts', 'ctx-rh-caudalanteriorcingulate',\n",
       "       'ctx-rh-caudalmiddlefrontal', 'ctx-rh-cuneus', 'ctx-rh-entorhinal',\n",
       "       'ctx-rh-frontalpole', 'ctx-rh-fusiform', 'ctx-rh-inferiorparietal',\n",
       "       'ctx-rh-inferiortemporal', 'ctx-rh-insula',\n",
       "       'ctx-rh-isthmuscingulate', 'ctx-rh-lateraloccipital',\n",
       "       'ctx-rh-lateralorbitofrontal', 'ctx-rh-lingual',\n",
       "       'ctx-rh-medialorbitofrontal', 'ctx-rh-middletemporal',\n",
       "       'ctx-rh-paracentral', 'ctx-rh-parahippocampal',\n",
       "       'ctx-rh-parsopercularis', 'ctx-rh-parsorbitalis',\n",
       "       'ctx-rh-parstriangularis', 'ctx-rh-pericalcarine',\n",
       "       'ctx-rh-postcentral', 'ctx-rh-posteriorcingulate',\n",
       "       'ctx-rh-precentral', 'ctx-rh-precuneus',\n",
       "       'ctx-rh-rostralanteriorcingulate', 'ctx-rh-rostralmiddlefrontal',\n",
       "       'ctx-rh-superiorfrontal', 'ctx-rh-superiorparietal',\n",
       "       'ctx-rh-superiortemporal', 'ctx-rh-supramarginal',\n",
       "       'ctx-rh-temporalpole', 'ctx-rh-transversetemporal', 'merge_DX',\n",
       "       'merge_DX.1', 'merge_RID', 'merge_RID.1', 'ml_stage', 'ml_subtype',\n",
       "       'prob_ml_stage', 'prob_ml_subtype'], dtype=object)"
      ]
     },
     "execution_count": 45,
     "metadata": {},
     "output_type": "execute_result"
    }
   ],
   "source": [
    "twd_df_columns = twd_df.columns.values\n",
    "twd_df_columns"
   ]
  },
  {
   "cell_type": "markdown",
   "metadata": {},
   "source": [
    "#### Min-Max Scaling the Ml_stage "
   ]
  },
  {
   "cell_type": "code",
   "execution_count": 46,
   "metadata": {},
   "outputs": [
    {
     "data": {
      "text/plain": [
       "0      0.200000\n",
       "1      0.266667\n",
       "2      0.266667\n",
       "3      0.266667\n",
       "4      0.266667\n",
       "         ...   \n",
       "814    0.400000\n",
       "815    0.666667\n",
       "816    0.000000\n",
       "817    0.666667\n",
       "818    0.066667\n",
       "Name: ml_stage, Length: 819, dtype: float64"
      ]
     },
     "execution_count": 46,
     "metadata": {},
     "output_type": "execute_result"
    }
   ],
   "source": [
    "twd_df[\"ml_stage\"] =  (twd_df['ml_stage'] - twd_df['ml_stage'].min()) / (twd_df['ml_stage'].max() - twd_df['ml_stage'].min())\n",
    "twd_df[\"ml_stage\"]"
   ]
  },
  {
   "cell_type": "code",
   "execution_count": 47,
   "metadata": {},
   "outputs": [],
   "source": [
    "# Drop the unnamed columns \n",
    "columns_to_drop = filter(lambda x: x.startswith('Unnamed'), twd_df.columns)\n",
    "columns_to_drop = list(columns_to_drop)\n",
    "twd_df.drop(columns=columns_to_drop, inplace=True)\n"
   ]
  },
  {
   "cell_type": "code",
   "execution_count": 48,
   "metadata": {},
   "outputs": [
    {
     "name": "stdout",
     "output_type": "stream",
     "text": [
      "There are duplicates within the same column in the DataFrame.\n",
      "Duplicate values in 'RID':\n",
      "[  31   56   69   96  112  377  467  668  731  734  751  800 1190 1280\n",
      " 1378 1427 2002 2155 2180 2234 2239 2245 2263 2301 2304 2332 2392 4003\n",
      " 4036 4094 4100 4114 4176 4179 4197 4198 4210 4214 4229 4277 4278 4281\n",
      " 4290 4292 4293 4301 4309 4332 4356 4367 4384 4387 4399 4400 4410 4422\n",
      " 4427 4429 4446 4448 4464 4488 4489 4510 4513 4538 4548 4576 4587 4598\n",
      " 4604 4620 4637 4649 4654 4674 4706 4722 4723 4742 4744 4765 4767 4782\n",
      " 4799 4813 4817 4835 4842 4855 4862 4868 4869 4874 4919 5004 5093 5097\n",
      " 5100 5177 5185 5194 5198 5200 5203 5230 5259 5265 5266 5273 5277 5289\n",
      " 5290 6007 6008 6013 6038 6039 6056 6061 6073 6076 6088 6100 6104 6110\n",
      " 6116 6120 6133 6141 6178 6179 6185 6209 6255 6258 6284 6298]\n"
     ]
    }
   ],
   "source": [
    "# Check for duplicates\n",
    "duplicates_demographics  = twd_df[twd_df.duplicated(subset='RID', keep=False)]\n",
    "\n",
    "if not duplicates_demographics.empty:\n",
    "    print(\"There are duplicates within the same column in the DataFrame.\")\n",
    "    print(\"Duplicate values in 'RID':\")\n",
    "    print(duplicates_demographics['RID'].unique())\n",
    "else:\n",
    "    print(\"There are no duplicates within the same column in the DataFrame.\")"
   ]
  },
  {
   "cell_type": "code",
   "execution_count": 49,
   "metadata": {},
   "outputs": [],
   "source": [
    "# Make values for unique and actual RID numbers \n",
    "RID_demographicsUnique = twd_df['RID'].unique()\n",
    "RID_demographicsvalues = twd_df['RID'].values\n"
   ]
  },
  {
   "cell_type": "markdown",
   "metadata": {},
   "source": [
    "# Tau Demographics Categorical Binning\n",
    "Categorical binning for ages and education \n",
    "\n",
    "**Values of Age Bins**\n",
    "\n",
    "55-64\n",
    "\n",
    "65-74\n",
    "\n",
    "75-91\n",
    "\n",
    "**Values of Years of Education Bins**\n",
    "\n",
    "8-12\n",
    "\n",
    "13-15 \n",
    "\n",
    "16-20\n"
   ]
  },
  {
   "cell_type": "code",
   "execution_count": 50,
   "metadata": {},
   "outputs": [],
   "source": [
    "#bin ages \n",
    "bin_ages = [55,65,75,90]\n",
    "twd_df[\"age_bin\"] = pd.cut(twd_df[\"AGE\"], bins=bin_ages, labels=['55-64', '65-74', '75-91'])"
   ]
  },
  {
   "cell_type": "code",
   "execution_count": 51,
   "metadata": {
    "tags": []
   },
   "outputs": [],
   "source": [
    "# bin years of education \n",
    "\n",
    "bin_education = [7, 12, 15, 20]\n",
    "twd_df[\"education_bin\"] = pd.cut(twd_df[\"PTEDUCAT\"],  bins=bin_education, labels=['8-12', '13-15', '16-20'])"
   ]
  },
  {
   "cell_type": "markdown",
   "metadata": {},
   "source": [
    "### OneHotEncode of Age Binning"
   ]
  },
  {
   "cell_type": "code",
   "execution_count": 52,
   "metadata": {},
   "outputs": [],
   "source": [
    "#OneHotEncoder Age \n",
    "\n",
    "# Initialize OneHotEncoder\n",
    "encoder = OneHotEncoder(sparse_output=False)\n",
    "\n",
    "\n",
    "# Fit and transform the Gender column\n",
    "encoded_data_age = encoder.fit_transform(twd_df[['age_bin']])\n",
    "\n",
    "# Create DataFrame from encoded data\n",
    "encoded_twd_df_age = pd.DataFrame(encoded_data_age, columns=encoder.get_feature_names_out(['age_bin']))\n",
    "\n",
    "# Concatenate the original twd DataFrame with the encoded DataFrame\n",
    "twd_df_encoded_age = pd.concat([encoded_twd_df_age, twd_df], axis=1)\n"
   ]
  },
  {
   "cell_type": "markdown",
   "metadata": {},
   "source": [
    "### OneHotEncode Gender"
   ]
  },
  {
   "cell_type": "code",
   "execution_count": 53,
   "metadata": {},
   "outputs": [],
   "source": [
    "#OneHotEncoder Gender \n",
    "\n",
    "# Fit and transform the Gender column\n",
    "encoded_data = encoder.fit_transform(twd_df[['PTGENDER']])\n",
    "\n",
    "# Create DataFrame from encoded data\n",
    "encoded_twd_df = pd.DataFrame(encoded_data, columns=encoder.get_feature_names_out(['PTGENDER']))\n",
    "\n",
    "# Concatenate the original twd DataFrame with the encoded DataFrame\n",
    "twd_df_encoded_gender = pd.concat([encoded_twd_df, twd_df_encoded_age], axis=1)\n"
   ]
  },
  {
   "cell_type": "markdown",
   "metadata": {},
   "source": [
    "### OneHotEncode Cognitive score"
   ]
  },
  {
   "cell_type": "code",
   "execution_count": 54,
   "metadata": {},
   "outputs": [],
   "source": [
    "#OneHotEncoder cogntive progression  \n",
    "# Fit and transform the Cognitive scores column\n",
    "encoded_data_scores = encoder.fit_transform(twd_df[['best_DX.1']])\n",
    "\n",
    "# Create DataFrame from encoded data\n",
    "best_DX_demographics_scores = pd.DataFrame(encoded_data_scores, columns=encoder.get_feature_names_out(['best_DX.1']))\n",
    "\n",
    "\n"
   ]
  },
  {
   "cell_type": "markdown",
   "metadata": {},
   "source": [
    "#### Concat the OneHotEncoded DataFrames with the original data"
   ]
  },
  {
   "cell_type": "code",
   "execution_count": 55,
   "metadata": {
    "tags": []
   },
   "outputs": [],
   "source": [
    "# Concatenate the original twd DataFrame with the encoded DataFrame\n",
    "twd_df = pd.concat([best_DX_demographics_scores, twd_df_encoded_gender], axis=1)\n",
    "\n"
   ]
  },
  {
   "cell_type": "markdown",
   "metadata": {},
   "source": [
    "### Seeding patterns.csv\n",
    "\n",
    "Download CSV and check for duplicates "
   ]
  },
  {
   "cell_type": "code",
   "execution_count": 56,
   "metadata": {},
   "outputs": [],
   "source": [
    "seeds =  pd.read_csv(\"./data/Seeding patterns.csv\")\n",
    "# Reorder columns alphabetically\n",
    "seeds = seeds.reindex(sorted(seeds.columns), axis=1)\n",
    "\n"
   ]
  },
  {
   "cell_type": "code",
   "execution_count": 57,
   "metadata": {},
   "outputs": [],
   "source": [
    "# Make values for unique and actual RID numbers for seed Dataframe\n",
    "RID_seedsUnique = seeds[\"RID\"].unique()\n",
    "RID_seedsvalue = seeds[\"RID\"].values\n"
   ]
  },
  {
   "cell_type": "code",
   "execution_count": 58,
   "metadata": {},
   "outputs": [
    {
     "name": "stdout",
     "output_type": "stream",
     "text": [
      "There are duplicates within the same column in the DataFrame.\n",
      "Duplicate values in 'RID':\n",
      "[  31   56   69   96  112  377  467  668  731  734  751  800 1190 1280\n",
      " 1378 1427 2002 2155 2180 2234 2239 2245 2263 2301 2304 2332 2392 4003\n",
      " 4036 4094 4100 4114 4176 4179 4197 4198 4210 4214 4229 4277 4278 4281\n",
      " 4290 4292 4293 4301 4309 4332 4356 4367 4384 4387 4399 4400 4410 4422\n",
      " 4427 4429 4446 4448 4464 4488 4489 4510 4513 4538 4548 4576 4587 4598\n",
      " 4604 4620 4637 4649 4654 4674 4706 4722 4723 4742 4744 4765 4767 4782\n",
      " 4799 4813 4817 4835 4842 4855 4862 4868 4869 4874 4919 5004 5093 5097\n",
      " 5100 5177 5185 5194 5198 5200 5203 5230 5259 5265 5266 5273 5277 5289\n",
      " 5290 6007 6008 6013 6038 6039 6056 6061 6073 6076 6088 6100 6104 6110\n",
      " 6116 6120 6133 6141 6178 6179 6185 6209 6255 6258 6284 6298]\n"
     ]
    }
   ],
   "source": [
    "# Check for duplicates\n",
    "duplicates_seeds  = seeds[seeds.duplicated(subset='RID', keep=False)]\n",
    "\n",
    "if not duplicates_demographics.empty:\n",
    "    print(\"There are duplicates within the same column in the DataFrame.\")\n",
    "    print(\"Duplicate values in 'RID':\")\n",
    "    print(duplicates_demographics['RID'].unique())\n",
    "else:\n",
    "    print(\"There are no duplicates within the same column in the DataFrame.\")"
   ]
  },
  {
   "cell_type": "code",
   "execution_count": 59,
   "metadata": {},
   "outputs": [],
   "source": [
    "# Function to check if the columns are in the seed csv \n",
    "\n",
    "def columns_not_found(csv_file, desired_column_names):\n",
    "    not_found = []\n",
    "    with open(csv_file, 'r', newline='') as file:\n",
    "        reader = csv.reader(file)\n",
    "        header_row = next(reader)  # Read the first row as header\n",
    "        for column_name in desired_column_names:\n",
    "            if column_name not in header_row:\n",
    "                not_found.append(column_name)\n",
    "    return not_found\n",
    "\n"
   ]
  },
  {
   "cell_type": "code",
   "execution_count": 60,
   "metadata": {},
   "outputs": [],
   "source": [
    "seeds_csv = \"./data/Seeding patterns.csv\""
   ]
  },
  {
   "cell_type": "code",
   "execution_count": 61,
   "metadata": {},
   "outputs": [
    {
     "name": "stdout",
     "output_type": "stream",
     "text": [
      "Columns not found in the CSV file: Left-Accumbens-area, Left-Caudate, Left-Pallidum, Left-Putamen, Right-Accumbens-area, Right-Caudate, Right-Pallidum, Right-Putamen\n"
     ]
    }
   ],
   "source": [
    "not_found_columns = columns_not_found(seeds_csv, columns_array)\n",
    "if not_found_columns:\n",
    "    print(\"Columns not found in the CSV file:\", ', '.join(not_found_columns))\n",
    "else:\n",
    "    print(\"All column names found in the CSV file.\")"
   ]
  },
  {
   "cell_type": "code",
   "execution_count": 62,
   "metadata": {},
   "outputs": [],
   "source": [
    "# Drop all the unnamed columns\n",
    "\n",
    "seed_columns_to_drop = filter(lambda x: x.startswith('Unnamed'), seeds.columns)\n",
    "seed_columns_to_drop = list(seed_columns_to_drop)\n",
    "seeds.drop(columns=seed_columns_to_drop, inplace=True)\n"
   ]
  },
  {
   "cell_type": "markdown",
   "metadata": {},
   "source": [
    "### Compare the RID from the Seed Dataframe (See) and the Demographic Dataframe "
   ]
  },
  {
   "cell_type": "code",
   "execution_count": 63,
   "metadata": {},
   "outputs": [
    {
     "name": "stdout",
     "output_type": "stream",
     "text": [
      "Common numbers: {6144, 6145, 6146, 6147, 4100, 6148, 6151, 4105, 6157, 6158, 6159, 6161, 4114, 4115, 2068, 21, 6163, 4119, 6164, 6168, 6173, 31, 6175, 6178, 6179, 6180, 6183, 6184, 6185, 6186, 6187, 6188, 6189, 4148, 4149, 6197, 6199, 56, 6200, 6202, 59, 6203, 6204, 6206, 6207, 4160, 6209, 4162, 6211, 4164, 69, 6212, 2119, 6213, 2121, 4169, 2123, 6216, 6221, 6222, 4175, 4176, 4177, 2130, 4179, 6224, 2133, 6226, 6227, 6228, 6229, 6231, 4187, 6232, 6233, 6234, 6236, 96, 6237, 6240, 6243, 4090, 4197, 4198, 4199, 4200, 6250, 2155, 6251, 6252, 6253, 6255, 112, 6256, 4210, 6257, 4212, 4213, 4214, 6258, 120, 6259, 6260, 6264, 6266, 6268, 6269, 127, 4224, 6271, 6274, 6275, 2180, 4229, 6277, 2183, 6278, 6279, 4234, 2187, 6281, 6282, 142, 6283, 6284, 6287, 6288, 6289, 6291, 6292, 6293, 6294, 2200, 6297, 6298, 156, 6300, 4254, 6303, 6304, 6306, 6307, 6308, 4262, 6310, 6313, 6314, 2219, 2220, 6315, 6316, 4271, 4272, 6317, 6318, 6319, 6320, 4277, 4278, 6321, 6323, 2233, 2234, 4281, 6326, 6328, 2238, 2239, 4288, 6333, 4290, 6336, 4292, 2245, 4293, 2247, 4294, 6341, 6343, 6345, 6346, 4301, 4302, 6348, 6349, 6350, 210, 6351, 6352, 4309, 6354, 2263, 6356, 4313, 6358, 6359, 6360, 6362, 6364, 6367, 6369, 6370, 6371, 6373, 6374, 6375, 6376, 6377, 4332, 6381, 4335, 6384, 6385, 6386, 6389, 4343, 4345, 6394, 6396, 2301, 4351, 2304, 4352, 6399, 6400, 4356, 6401, 6402, 6405, 6408, 6411, 4365, 6413, 4367, 6414, 4369, 6415, 6416, 6417, 6419, 6421, 6422, 4376, 6423, 6424, 6426, 2332, 2333, 4380, 6427, 2336, 4384, 6428, 4387, 6429, 6432, 6436, 6437, 6439, 6441, 6442, 6443, 4396, 6446, 303, 4399, 4400, 4401, 6449, 6450, 6452, 6454, 6455, 6456, 4410, 6459, 4414, 2367, 4415, 4417, 6463, 6465, 6467, 2373, 2374, 4422, 4424, 6468, 6470, 2379, 2380, 4427, 4428, 4429, 4430, 337, 4431, 6474, 6476, 6480, 6483, 6485, 2392, 4441, 2394, 2395, 6487, 6488, 4446, 6492, 4448, 6493, 6494, 2403, 6497, 4453, 6498, 6499, 6500, 6502, 6504, 6509, 6510, 4464, 6512, 6513, 6514, 6515, 4469, 6516, 6517, 6519, 377, 6521, 6522, 6529, 4482, 4483, 4485, 6533, 6534, 4488, 4489, 6535, 4491, 6542, 6543, 6544, 6545, 6546, 6547, 6549, 6550, 6551, 4506, 4507, 413, 4510, 6559, 416, 6563, 420, 6564, 6566, 4520, 4521, 6570, 6572, 6573, 6575, 6577, 6578, 6580, 6581, 6582, 4536, 4538, 6586, 6589, 6591, 6592, 6593, 4547, 4548, 6597, 4552, 6600, 6601, 6602, 4556, 6605, 6606, 6610, 467, 6611, 6612, 6621, 6622, 4576, 6624, 4578, 6629, 6632, 4585, 4586, 4587, 6634, 6635, 6640, 6641, 498, 6643, 6644, 4598, 6648, 6651, 4604, 6652, 6654, 4607, 6655, 6658, 6661, 4620, 6668, 6672, 4630, 4631, 6681, 6683, 4637, 6687, 6688, 4643, 4649, 6697, 4654, 6702, 6703, 6704, 6705, 4659, 6713, 6721, 4674, 6722, 4094, 4706, 618, 4715, 4721, 626, 4722, 4723, 4742, 4744, 668, 4765, 4767, 677, 679, 680, 684, 4782, 4785, 4799, 4809, 4813, 4815, 4817, 731, 4827, 734, 4835, 4842, 751, 4855, 4858, 4862, 767, 4868, 4869, 4874, 4876, 4889, 4891, 4893, 800, 4896, 4900, 4902, 4919, 4926, 4949, 4951, 4952, 4974, 896, 5004, 925, 969, 5078, 5083, 5093, 5097, 5100, 5109, 1016, 5113, 5118, 5124, 5126, 5127, 5132, 5140, 1052, 5154, 5169, 1078, 5175, 5176, 5177, 5178, 5185, 5193, 5194, 5198, 5200, 5202, 5203, 6327, 5214, 1122, 5222, 5230, 5234, 5242, 5243, 6334, 6335, 1155, 5253, 5258, 5259, 1169, 5265, 5266, 5269, 5273, 5277, 5278, 5282, 1190, 5288, 5289, 5290, 5292, 1261, 1280, 1378, 1414, 1418, 1427, 6471, 6472, 6473, 6001, 6002, 6005, 6007, 6008, 6009, 6013, 6014, 6015, 6016, 6019, 6024, 6025, 6030, 6031, 6033, 6034, 6037, 6039, 6041, 6043, 6044, 6045, 6046, 6047, 6049, 4003, 6051, 6052, 6053, 6054, 6056, 6057, 6058, 6059, 6061, 6062, 6063, 6064, 6065, 6067, 6068, 4021, 6069, 6072, 6073, 6075, 4028, 6076, 6080, 6082, 6083, 4036, 4037, 6084, 6085, 6088, 4043, 6097, 2002, 6100, 6103, 6104, 6105, 4060, 6110, 6111, 6113, 2018, 4067, 6115, 6116, 6117, 4071, 6118, 6120, 4076, 6125, 4084, 6133, 6134, 6136, 6138, 6141, 6142, 6143}\n",
      "Numbers unique to array 'a': set()\n",
      "Numbers unique to array 'b': {6505, 4513, 6038, 6598}\n"
     ]
    }
   ],
   "source": [
    "def compare_arrays(a, b):\n",
    "    common_numbers = set(a) & set(b)\n",
    "    unique_to_a = set(a) - set(b)\n",
    "    unique_to_b = set(b) - set(a)\n",
    "    return common_numbers, unique_to_a, unique_to_b\n",
    "\n",
    "common, unique_to_a, unique_to_b = compare_arrays(RID_seedsvalue, RID_demographicsvalues)\n",
    "\n",
    "print(\"Common numbers:\", common)\n",
    "print(\"Numbers unique to array 'a':\", unique_to_a)\n",
    "print(\"Numbers unique to array 'b':\", unique_to_b)\n"
   ]
  },
  {
   "cell_type": "markdown",
   "metadata": {},
   "source": [
    "### Merge the seeds and tau demographics \n"
   ]
  },
  {
   "cell_type": "code",
   "execution_count": 64,
   "metadata": {},
   "outputs": [
    {
     "name": "stdout",
     "output_type": "stream",
     "text": [
      "Number of rows after dropping duplicates: 652\n"
     ]
    },
    {
     "data": {
      "text/html": [
       "<div>\n",
       "<style scoped>\n",
       "    .dataframe tbody tr th:only-of-type {\n",
       "        vertical-align: middle;\n",
       "    }\n",
       "\n",
       "    .dataframe tbody tr th {\n",
       "        vertical-align: top;\n",
       "    }\n",
       "\n",
       "    .dataframe thead th {\n",
       "        text-align: right;\n",
       "    }\n",
       "</style>\n",
       "<table border=\"1\" class=\"dataframe\">\n",
       "  <thead>\n",
       "    <tr style=\"text-align: right;\">\n",
       "      <th></th>\n",
       "      <th>Left-Amygdala_seed</th>\n",
       "      <th>Left-Cerebellum-Cortex_seed</th>\n",
       "      <th>Left-Hippocampus_seed</th>\n",
       "      <th>Left-Thalamus-Proper_seed</th>\n",
       "      <th>Left-VentralDC_seed</th>\n",
       "      <th>RID</th>\n",
       "      <th>Right-Amygdala_seed</th>\n",
       "      <th>Right-Cerebellum-Cortex_seed</th>\n",
       "      <th>Right-Hippocampus_seed</th>\n",
       "      <th>Right-Thalamus-Proper_seed</th>\n",
       "      <th>...</th>\n",
       "      <th>merge_DX</th>\n",
       "      <th>merge_DX.1</th>\n",
       "      <th>merge_RID</th>\n",
       "      <th>merge_RID.1</th>\n",
       "      <th>ml_stage</th>\n",
       "      <th>ml_subtype</th>\n",
       "      <th>prob_ml_stage</th>\n",
       "      <th>prob_ml_subtype</th>\n",
       "      <th>age_bin</th>\n",
       "      <th>education_bin</th>\n",
       "    </tr>\n",
       "  </thead>\n",
       "  <tbody>\n",
       "    <tr>\n",
       "      <th>0</th>\n",
       "      <td>0.000000</td>\n",
       "      <td>0.100782</td>\n",
       "      <td>0.000000</td>\n",
       "      <td>0.000000</td>\n",
       "      <td>0.000000</td>\n",
       "      <td>21</td>\n",
       "      <td>0.000000</td>\n",
       "      <td>0.000000</td>\n",
       "      <td>0.000000</td>\n",
       "      <td>0.000000</td>\n",
       "      <td>...</td>\n",
       "      <td>CN</td>\n",
       "      <td>CN</td>\n",
       "      <td>21</td>\n",
       "      <td>21</td>\n",
       "      <td>0.200000</td>\n",
       "      <td>0.0</td>\n",
       "      <td>0.166798</td>\n",
       "      <td>1.0</td>\n",
       "      <td>65-74</td>\n",
       "      <td>16-20</td>\n",
       "    </tr>\n",
       "    <tr>\n",
       "      <th>1</th>\n",
       "      <td>0.000000</td>\n",
       "      <td>0.000000</td>\n",
       "      <td>0.000000</td>\n",
       "      <td>0.000000</td>\n",
       "      <td>0.000000</td>\n",
       "      <td>31</td>\n",
       "      <td>0.000000</td>\n",
       "      <td>0.000000</td>\n",
       "      <td>0.000000</td>\n",
       "      <td>0.000000</td>\n",
       "      <td>...</td>\n",
       "      <td>CN</td>\n",
       "      <td>CN</td>\n",
       "      <td>31</td>\n",
       "      <td>31</td>\n",
       "      <td>0.266667</td>\n",
       "      <td>0.0</td>\n",
       "      <td>0.149829</td>\n",
       "      <td>1.0</td>\n",
       "      <td>75-91</td>\n",
       "      <td>16-20</td>\n",
       "    </tr>\n",
       "    <tr>\n",
       "      <th>3</th>\n",
       "      <td>0.000000</td>\n",
       "      <td>0.000000</td>\n",
       "      <td>0.000000</td>\n",
       "      <td>0.000000</td>\n",
       "      <td>0.000000</td>\n",
       "      <td>56</td>\n",
       "      <td>0.000000</td>\n",
       "      <td>0.000000</td>\n",
       "      <td>0.000000</td>\n",
       "      <td>0.000000</td>\n",
       "      <td>...</td>\n",
       "      <td>MCI</td>\n",
       "      <td>MCI</td>\n",
       "      <td>56</td>\n",
       "      <td>56</td>\n",
       "      <td>0.266667</td>\n",
       "      <td>0.0</td>\n",
       "      <td>0.149921</td>\n",
       "      <td>1.0</td>\n",
       "      <td>65-74</td>\n",
       "      <td>13-15</td>\n",
       "    </tr>\n",
       "    <tr>\n",
       "      <th>5</th>\n",
       "      <td>0.000000</td>\n",
       "      <td>0.000000</td>\n",
       "      <td>0.000000</td>\n",
       "      <td>0.000000</td>\n",
       "      <td>0.000000</td>\n",
       "      <td>59</td>\n",
       "      <td>0.000000</td>\n",
       "      <td>0.000000</td>\n",
       "      <td>0.000000</td>\n",
       "      <td>0.000000</td>\n",
       "      <td>...</td>\n",
       "      <td>MCI</td>\n",
       "      <td>MCI</td>\n",
       "      <td>59</td>\n",
       "      <td>59</td>\n",
       "      <td>0.266667</td>\n",
       "      <td>0.0</td>\n",
       "      <td>0.150045</td>\n",
       "      <td>1.0</td>\n",
       "      <td>65-74</td>\n",
       "      <td>13-15</td>\n",
       "    </tr>\n",
       "    <tr>\n",
       "      <th>6</th>\n",
       "      <td>0.093932</td>\n",
       "      <td>0.237063</td>\n",
       "      <td>0.111021</td>\n",
       "      <td>0.122752</td>\n",
       "      <td>0.121115</td>\n",
       "      <td>69</td>\n",
       "      <td>0.135576</td>\n",
       "      <td>0.163374</td>\n",
       "      <td>0.028771</td>\n",
       "      <td>0.162657</td>\n",
       "      <td>...</td>\n",
       "      <td>MCI</td>\n",
       "      <td>MCI</td>\n",
       "      <td>69</td>\n",
       "      <td>69</td>\n",
       "      <td>0.000000</td>\n",
       "      <td>0.0</td>\n",
       "      <td>0.244147</td>\n",
       "      <td>1.0</td>\n",
       "      <td>65-74</td>\n",
       "      <td>16-20</td>\n",
       "    </tr>\n",
       "    <tr>\n",
       "      <th>...</th>\n",
       "      <td>...</td>\n",
       "      <td>...</td>\n",
       "      <td>...</td>\n",
       "      <td>...</td>\n",
       "      <td>...</td>\n",
       "      <td>...</td>\n",
       "      <td>...</td>\n",
       "      <td>...</td>\n",
       "      <td>...</td>\n",
       "      <td>...</td>\n",
       "      <td>...</td>\n",
       "      <td>...</td>\n",
       "      <td>...</td>\n",
       "      <td>...</td>\n",
       "      <td>...</td>\n",
       "      <td>...</td>\n",
       "      <td>...</td>\n",
       "      <td>...</td>\n",
       "      <td>...</td>\n",
       "      <td>...</td>\n",
       "      <td>...</td>\n",
       "    </tr>\n",
       "    <tr>\n",
       "      <th>808</th>\n",
       "      <td>0.000000</td>\n",
       "      <td>0.000000</td>\n",
       "      <td>0.000000</td>\n",
       "      <td>0.000000</td>\n",
       "      <td>0.000000</td>\n",
       "      <td>6704</td>\n",
       "      <td>0.549741</td>\n",
       "      <td>0.000000</td>\n",
       "      <td>0.000000</td>\n",
       "      <td>0.000000</td>\n",
       "      <td>...</td>\n",
       "      <td>CN</td>\n",
       "      <td>CN</td>\n",
       "      <td>6704</td>\n",
       "      <td>6704</td>\n",
       "      <td>0.400000</td>\n",
       "      <td>0.0</td>\n",
       "      <td>0.168199</td>\n",
       "      <td>1.0</td>\n",
       "      <td>65-74</td>\n",
       "      <td>8-12</td>\n",
       "    </tr>\n",
       "    <tr>\n",
       "      <th>809</th>\n",
       "      <td>0.000000</td>\n",
       "      <td>0.000000</td>\n",
       "      <td>0.000000</td>\n",
       "      <td>0.000000</td>\n",
       "      <td>0.062053</td>\n",
       "      <td>6705</td>\n",
       "      <td>0.083348</td>\n",
       "      <td>0.000000</td>\n",
       "      <td>0.000000</td>\n",
       "      <td>0.000000</td>\n",
       "      <td>...</td>\n",
       "      <td>Dementia</td>\n",
       "      <td>Dementia</td>\n",
       "      <td>6705</td>\n",
       "      <td>6705</td>\n",
       "      <td>0.666667</td>\n",
       "      <td>0.0</td>\n",
       "      <td>0.375510</td>\n",
       "      <td>1.0</td>\n",
       "      <td>65-74</td>\n",
       "      <td>16-20</td>\n",
       "    </tr>\n",
       "    <tr>\n",
       "      <th>810</th>\n",
       "      <td>0.000000</td>\n",
       "      <td>0.000000</td>\n",
       "      <td>0.000000</td>\n",
       "      <td>0.000000</td>\n",
       "      <td>0.000000</td>\n",
       "      <td>6713</td>\n",
       "      <td>0.000000</td>\n",
       "      <td>0.000000</td>\n",
       "      <td>0.000000</td>\n",
       "      <td>0.000000</td>\n",
       "      <td>...</td>\n",
       "      <td>Dementia</td>\n",
       "      <td>Dementia</td>\n",
       "      <td>6713</td>\n",
       "      <td>6713</td>\n",
       "      <td>0.000000</td>\n",
       "      <td>0.0</td>\n",
       "      <td>0.201921</td>\n",
       "      <td>1.0</td>\n",
       "      <td>65-74</td>\n",
       "      <td>16-20</td>\n",
       "    </tr>\n",
       "    <tr>\n",
       "      <th>811</th>\n",
       "      <td>0.000000</td>\n",
       "      <td>0.000000</td>\n",
       "      <td>0.000000</td>\n",
       "      <td>0.000000</td>\n",
       "      <td>0.216880</td>\n",
       "      <td>6721</td>\n",
       "      <td>0.065006</td>\n",
       "      <td>0.000000</td>\n",
       "      <td>0.000000</td>\n",
       "      <td>0.000000</td>\n",
       "      <td>...</td>\n",
       "      <td>Dementia</td>\n",
       "      <td>Dementia</td>\n",
       "      <td>6721</td>\n",
       "      <td>6721</td>\n",
       "      <td>0.666667</td>\n",
       "      <td>0.0</td>\n",
       "      <td>NaN</td>\n",
       "      <td>1.0</td>\n",
       "      <td>75-91</td>\n",
       "      <td>16-20</td>\n",
       "    </tr>\n",
       "    <tr>\n",
       "      <th>812</th>\n",
       "      <td>0.000000</td>\n",
       "      <td>0.100571</td>\n",
       "      <td>0.050939</td>\n",
       "      <td>0.049493</td>\n",
       "      <td>0.000000</td>\n",
       "      <td>6722</td>\n",
       "      <td>0.152876</td>\n",
       "      <td>0.100244</td>\n",
       "      <td>0.000000</td>\n",
       "      <td>0.074112</td>\n",
       "      <td>...</td>\n",
       "      <td>CN</td>\n",
       "      <td>CN</td>\n",
       "      <td>6722</td>\n",
       "      <td>6722</td>\n",
       "      <td>0.066667</td>\n",
       "      <td>0.0</td>\n",
       "      <td>NaN</td>\n",
       "      <td>1.0</td>\n",
       "      <td>75-91</td>\n",
       "      <td>16-20</td>\n",
       "    </tr>\n",
       "  </tbody>\n",
       "</table>\n",
       "<p>652 rows × 218 columns</p>\n",
       "</div>"
      ],
      "text/plain": [
       "     Left-Amygdala_seed  Left-Cerebellum-Cortex_seed  Left-Hippocampus_seed  \\\n",
       "0              0.000000                     0.100782               0.000000   \n",
       "1              0.000000                     0.000000               0.000000   \n",
       "3              0.000000                     0.000000               0.000000   \n",
       "5              0.000000                     0.000000               0.000000   \n",
       "6              0.093932                     0.237063               0.111021   \n",
       "..                  ...                          ...                    ...   \n",
       "808            0.000000                     0.000000               0.000000   \n",
       "809            0.000000                     0.000000               0.000000   \n",
       "810            0.000000                     0.000000               0.000000   \n",
       "811            0.000000                     0.000000               0.000000   \n",
       "812            0.000000                     0.100571               0.050939   \n",
       "\n",
       "     Left-Thalamus-Proper_seed  Left-VentralDC_seed   RID  \\\n",
       "0                     0.000000             0.000000    21   \n",
       "1                     0.000000             0.000000    31   \n",
       "3                     0.000000             0.000000    56   \n",
       "5                     0.000000             0.000000    59   \n",
       "6                     0.122752             0.121115    69   \n",
       "..                         ...                  ...   ...   \n",
       "808                   0.000000             0.000000  6704   \n",
       "809                   0.000000             0.062053  6705   \n",
       "810                   0.000000             0.000000  6713   \n",
       "811                   0.000000             0.216880  6721   \n",
       "812                   0.049493             0.000000  6722   \n",
       "\n",
       "     Right-Amygdala_seed  Right-Cerebellum-Cortex_seed  \\\n",
       "0               0.000000                      0.000000   \n",
       "1               0.000000                      0.000000   \n",
       "3               0.000000                      0.000000   \n",
       "5               0.000000                      0.000000   \n",
       "6               0.135576                      0.163374   \n",
       "..                   ...                           ...   \n",
       "808             0.549741                      0.000000   \n",
       "809             0.083348                      0.000000   \n",
       "810             0.000000                      0.000000   \n",
       "811             0.065006                      0.000000   \n",
       "812             0.152876                      0.100244   \n",
       "\n",
       "     Right-Hippocampus_seed  Right-Thalamus-Proper_seed  ...  merge_DX  \\\n",
       "0                  0.000000                    0.000000  ...        CN   \n",
       "1                  0.000000                    0.000000  ...        CN   \n",
       "3                  0.000000                    0.000000  ...       MCI   \n",
       "5                  0.000000                    0.000000  ...       MCI   \n",
       "6                  0.028771                    0.162657  ...       MCI   \n",
       "..                      ...                         ...  ...       ...   \n",
       "808                0.000000                    0.000000  ...        CN   \n",
       "809                0.000000                    0.000000  ...  Dementia   \n",
       "810                0.000000                    0.000000  ...  Dementia   \n",
       "811                0.000000                    0.000000  ...  Dementia   \n",
       "812                0.000000                    0.074112  ...        CN   \n",
       "\n",
       "     merge_DX.1  merge_RID  merge_RID.1  ml_stage  ml_subtype  prob_ml_stage  \\\n",
       "0            CN         21           21  0.200000         0.0       0.166798   \n",
       "1            CN         31           31  0.266667         0.0       0.149829   \n",
       "3           MCI         56           56  0.266667         0.0       0.149921   \n",
       "5           MCI         59           59  0.266667         0.0       0.150045   \n",
       "6           MCI         69           69  0.000000         0.0       0.244147   \n",
       "..          ...        ...          ...       ...         ...            ...   \n",
       "808          CN       6704         6704  0.400000         0.0       0.168199   \n",
       "809    Dementia       6705         6705  0.666667         0.0       0.375510   \n",
       "810    Dementia       6713         6713  0.000000         0.0       0.201921   \n",
       "811    Dementia       6721         6721  0.666667         0.0            NaN   \n",
       "812          CN       6722         6722  0.066667         0.0            NaN   \n",
       "\n",
       "     prob_ml_subtype  age_bin  education_bin  \n",
       "0                1.0    65-74          16-20  \n",
       "1                1.0    75-91          16-20  \n",
       "3                1.0    65-74          13-15  \n",
       "5                1.0    65-74          13-15  \n",
       "6                1.0    65-74          16-20  \n",
       "..               ...      ...            ...  \n",
       "808              1.0    65-74           8-12  \n",
       "809              1.0    65-74          16-20  \n",
       "810              1.0    65-74          16-20  \n",
       "811              1.0    75-91          16-20  \n",
       "812              1.0    75-91          16-20  \n",
       "\n",
       "[652 rows x 218 columns]"
      ]
     },
     "execution_count": 64,
     "metadata": {},
     "output_type": "execute_result"
    }
   ],
   "source": [
    "# Merge demographics and seed DataFrames with custom suffixes using inner join\n",
    "merged_twd_seeds = pd.merge(seeds, twd_df, on='RID', suffixes=('_seed', '_demographics'), how='inner')\n",
    "\n",
    "# Drop duplicates in the merged DataFrame based on the 'RID' column\n",
    "merged_twd_seeds.drop_duplicates(subset=['RID'], keep='first', inplace=True)\n",
    "\n",
    "print(\"Number of rows after dropping duplicates:\", len(merged_twd_seeds))\n",
    "merged_twd_seeds"
   ]
  },
  {
   "cell_type": "code",
   "execution_count": 65,
   "metadata": {},
   "outputs": [],
   "source": [
    "# Save to CSV\n",
    "merged_twd_seeds.to_csv('./data/Merged_Tau_with_Demographics_and_Seeds.csv')"
   ]
  },
  {
   "cell_type": "markdown",
   "metadata": {},
   "source": [
    "### After EDA drop the missing regions and rows from the connectome \n"
   ]
  },
  {
   "cell_type": "code",
   "execution_count": 66,
   "metadata": {},
   "outputs": [],
   "source": [
    "# Drop missing regions from the connectome\n",
    "connectome.drop(columns=not_found_columns, inplace=True)\n",
    "\n",
    "connectome = connectome.iloc[:78]\n"
   ]
  },
  {
   "cell_type": "code",
   "execution_count": 67,
   "metadata": {},
   "outputs": [],
   "source": [
    "# Save to CSV\n",
    "connectome.to_csv('./data/connectome_mean80_fibercount_ordered.csv')"
   ]
  }
 ],
 "metadata": {
  "kernelspec": {
   "display_name": "Python 3 (ipykernel)",
   "language": "python",
   "name": "python3"
  },
  "language_info": {
   "codemirror_mode": {
    "name": "ipython",
    "version": 3
   },
   "file_extension": ".py",
   "mimetype": "text/x-python",
   "name": "python",
   "nbconvert_exporter": "python",
   "pygments_lexer": "ipython3",
   "version": "3.11.7"
  }
 },
 "nbformat": 4,
 "nbformat_minor": 4
}
